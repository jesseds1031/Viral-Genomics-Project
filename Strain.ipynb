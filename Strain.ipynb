{
 "cells": [
  {
   "cell_type": "code",
   "execution_count": 5,
   "metadata": {},
   "outputs": [],
   "source": [
    "class strain():\n",
    "##This class hold info about the strain we are analyzing\n",
    "\n",
    "    sequences = None\n",
    "    ##A dict to hold sequences and seq ids\n",
    "\n",
    "    name = \"\"\n",
    "    ##String to hold strain name\n",
    "\n",
    "    def __init__(dictionary, seq_name):\n",
    "    ##Constructs a strain obj using the given parameters\n",
    "        sequences = dictionary\n",
    "        name = seq_name\n",
    "\n",
    "    def parse_fasta_file(input_file, remove_gaps):\n",
    "    ##Return a dict of {id:gene_seq} pairs based on the sequences in the input FASTA file\n",
    "    ##This dict is set to the strain's sequences variable\n",
    "    ##Takes in a boolean on whether or not to remove gaps\n",
    "    ##Takes in an input_file a file handle for an input fasta file\n",
    "\n",
    "        parsed_seqs = {}\n",
    "        curr_seq_id = None\n",
    "        curr_seq = []\n",
    "        new_line = \"\"\n",
    "\n",
    "        f = open(input_file)\n",
    "\n",
    "        for line in f:\n",
    "            line = line.strip()\n",
    "\n",
    "            #Is this a identifier line?\n",
    "            if line.startswith(\">\"):\n",
    "                if curr_seq_id is not None:\n",
    "                    parsed_seqs[curr_seq_id] = ''.join(curr_seq)\n",
    "\n",
    "                curr_seq_id = line[1:]\n",
    "                curr_seq = []\n",
    "                continue\n",
    "            \n",
    "            #Remove \"-\" characters if desired\n",
    "            if remove_gaps:\n",
    "                for character in line:\n",
    "                    if character != '-':\n",
    "                        new_line += character\n",
    "\n",
    "            curr_seq.append(new_line)\n",
    "            new_line = \"\"\n",
    "\n",
    "        #Add the very last sequence to the dict\n",
    "        parsed_seqs[curr_seq_id] = ''.join(curr_seq)\n",
    "        \n",
    "        ##set to strain's sequences variable\n",
    "        sequences = parsed_seqs \n",
    "        return parsed_seqs"
   ]
  },
  {
   "cell_type": "code",
   "execution_count": null,
   "metadata": {},
   "outputs": [],
   "source": []
  }
 ],
 "metadata": {
  "kernelspec": {
   "display_name": "Python 3",
   "language": "python",
   "name": "python3"
  },
  "language_info": {
   "codemirror_mode": {
    "name": "ipython",
    "version": 3
   },
   "file_extension": ".py",
   "mimetype": "text/x-python",
   "name": "python",
   "nbconvert_exporter": "python",
   "pygments_lexer": "ipython3",
   "version": "3.8.5"
  }
 },
 "nbformat": 4,
 "nbformat_minor": 4
}
