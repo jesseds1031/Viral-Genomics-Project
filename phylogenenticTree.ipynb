{
 "cells": [
  {
   "cell_type": "code",
   "execution_count": 15,
   "metadata": {},
   "outputs": [],
   "source": [
    "class phyloTree():\n",
    "## A class to contain a binary tree structure for holding phylogenetic trees\n",
    "\n",
    "    class node():\n",
    "    ##An inner class for phyloTree that will have the data and links to other\n",
    "    ##node nodes/edges\n",
    "    \n",
    "        data = None\n",
    "        ##declared to hold actual data - a strain object\n",
    "        right_link = None\n",
    "        ##declared to hold node to the right\n",
    "        left_link = None\n",
    "        ##declared to hold node to the left\n",
    "        \n",
    "        def __init__(new_data, new_right_link, new_left_link):\n",
    "        ##parameterized constructor to instantiate a node object\n",
    "            data = new_data\n",
    "            right_link = new_right_link\n",
    "            left_link = new_left_link\n",
    "    \n",
    "    root = None\n",
    "    ##Holds the very first node\n",
    "    \n",
    "    def __init__():\n",
    "    ##No-args constructor\n",
    "        root = None\n",
    "        \n",
    "    def insert_in_subtree(item, sub_tree_root):\n",
    "        ##Returns the root of the node that is the tree with root node \n",
    "        ##sub_tree_root, but with new node added that contains item\n",
    "        \n",
    "        if (sub_tree_root == None):\n",
    "            new_root = node(item, None, None)\n",
    "            return new_root\n",
    "        elif (item.compare_to(sub_tree_root.data)):\n",
    "            sub_tree_root.right_link = insert_in_subtree(item,sub_tree_root.left_link)\n",
    "            return sub_tree_root\n",
    "        else:\n",
    "            sub_tree_root.right_link = insert_in_subtree(item, sub_tree_root.right_link)\n",
    "            return subTreeRoot\n",
    "        \n",
    "    def compare_to(other)\n",
    "    ##returns -1 if the the calling object comes before the other\n",
    "    ##returns zero if they are equal, returns 1 if other comes before\n",
    "    ##the calling object\n",
    "    ##Takes in another object to compare\n",
    "    "
   ]
  },
  {
   "cell_type": "code",
   "execution_count": null,
   "metadata": {},
   "outputs": [],
   "source": []
  },
  {
   "cell_type": "code",
   "execution_count": null,
   "metadata": {},
   "outputs": [],
   "source": []
  }
 ],
 "metadata": {
  "kernelspec": {
   "display_name": "Python 3",
   "language": "python",
   "name": "python3"
  },
  "language_info": {
   "codemirror_mode": {
    "name": "ipython",
    "version": 3
   },
   "file_extension": ".py",
   "mimetype": "text/x-python",
   "name": "python",
   "nbconvert_exporter": "python",
   "pygments_lexer": "ipython3",
   "version": "3.8.5"
  }
 },
 "nbformat": 4,
 "nbformat_minor": 4
}
